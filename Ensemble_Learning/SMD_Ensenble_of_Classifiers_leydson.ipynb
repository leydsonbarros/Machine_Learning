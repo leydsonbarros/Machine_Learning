{
 "cells": [
  {
   "cell_type": "markdown",
   "metadata": {},
   "source": [
    "Atividade para hoje será a construção de um ensemble heterogêneo usando a metodologia Bagging:\n",
    "- Utilizar no ensemble os classificadores: Árvore de Decisão, SVM e Redes Neurais Artificiais - ok\n",
    "- Encontrar a quantidade de componentes do ensemble e a configuração dos mesmos. Lembrando que devem ser classificadores simples - ok\n",
    "- Utilizar a metodologia do Bagging para re-amostragem do conjunto de treinamento - ok\n",
    "- Utilizar validação cruzada para avaliar a qualidade do ensemble durante sua construção usando a acurácia do treino e validação\n",
    "- Apresentar ao final um histórico de execuções/buscas por configurações do ensemble e a melhor. Apresentar os desempenhos de treinamento, validação e teste da melhor configuração do ensemble."
   ]
  },
  {
   "cell_type": "code",
   "execution_count": 28,
   "metadata": {},
   "outputs": [],
   "source": [
    "# Get some classifiers to evaluate with BaggingClassifier\n",
    "import numpy as np\n",
    "import pandas\n",
    "from sklearn.model_selection import cross_val_score\n",
    "from sklearn.ensemble import BaggingClassifier\n",
    "from sklearn.svm import SVC\n",
    "from sklearn.neural_network import MLPClassifier\n",
    "from sklearn import tree\n",
    "from warnings import simplefilter\n",
    "from sklearn.exceptions import ConvergenceWarning\n",
    "from matplotlib import pyplot as plt\n",
    "simplefilter(\"ignore\", category=ConvergenceWarning)\n",
    "plt.rcParams['figure.figsize'] = [16, 10]\n",
    "\n",
    "seed = 1075\n",
    "np.random.seed(seed)\n",
    "\n",
    "names = ['preg', 'plas', 'pres', 'skin', 'test', 'mass', 'pedi', 'age', 'class']\n",
    "dataframe = pandas.read_csv(\"pima-indians-diabetes.csv\", names=names)\n",
    "array = dataframe.values\n",
    "X = array[:,0:8]\n",
    "Y = array[:,8]"
   ]
  },
  {
   "cell_type": "code",
   "execution_count": 34,
   "metadata": {},
   "outputs": [
    {
     "name": "stdout",
     "output_type": "stream",
     "text": [
      "Media clf  0.7669685577580314 \n",
      "Media Bagging 0.7669685577580315 \n",
      "Desvio  0.03338716735131549 \n",
      "Desvio bagging  0.034460545140375436\n",
      "Media clf  0.6536568694463432 \n",
      "Media Bagging 0.6484449760765549 \n",
      "Desvio  0.007970053778345003 \n",
      "Desvio bagging  0.027089802471656085\n",
      "Media clf  0.7187457279562542 \n",
      "Media Bagging 0.7526315789473684 \n",
      "Desvio  0.07277566442414571 \n",
      "Desvio bagging  0.04215367032124066\n"
     ]
    }
   ],
   "source": [
    "# Create base classifiers\n",
    "svc = SVC(kernel='linear')\n",
    "neural_network = MLPClassifier(hidden_layer_sizes=(100,), random_state=10, early_stopping=True, n_iter_no_change=5)\n",
    "DecisionTree = tree.DecisionTreeClassifier(random_state=42,max_depth=10)\n",
    "\n",
    "#training ensembles of classifiers\n",
    "clf_array = [svc,neural_network,DecisionTree]\n",
    "for clf in clf_array:\n",
    "    pima_scores = cross_val_score(clf, X, Y, cv=10)\n",
    "    bagging_clf = BaggingClassifier(clf,max_samples=0.3, random_state=seed)\n",
    "    bagging_scores = cross_val_score(bagging_clf, X, Y, cv=10)\n",
    "    print('Media clf ',pima_scores.mean(), '\\nMedia Bagging',bagging_scores.mean(),'\\nDesvio ',pima_scores.std(), '\\nDesvio bagging ',bagging_scores.std())\n",
    "\n"
   ]
  },
  {
   "cell_type": "code",
   "execution_count": 19,
   "metadata": {},
   "outputs": [
    {
     "name": "stdout",
     "output_type": "stream",
     "text": [
      "Media clf  0.7669685577580314 \n",
      "Media Bagging 0.7669685577580315 \n",
      "Desvio  0.03338716735131549 \n",
      "Desvio bagging  0.034460545140375436\n",
      "Media clf  0.6536568694463432 \n",
      "Media Bagging 0.6484449760765549 \n",
      "Desvio  0.007970053778345003 \n",
      "Desvio bagging  0.027089802471656085\n",
      "Media clf  0.7187457279562542 \n",
      "Media Bagging 0.7526315789473684 \n",
      "Desvio  0.07277566442414571 \n",
      "Desvio bagging  0.04215367032124066\n"
     ]
    }
   ],
   "source": [
    "\n",
    "# Create base classifiers\n",
    "svc = SVC(kernel='linear')\n",
    "neural_network = MLPClassifier(hidden_layer_sizes=(100,), random_state=10, early_stopping=True, n_iter_no_change=5)\n",
    "DecisionTree = tree.DecisionTreeClassifier(random_state=42,max_depth=10)\n",
    "\n",
    "#training ensembles of classifiers\n",
    "clf_array = [svc,neural_network,DecisionTree]\n",
    "for clf in clf_array:\n",
    "    pima_scores = cross_val_score(clf, X, Y, cv=10)\n",
    "    bagging_clf = BaggingClassifier(clf,max_samples=0.3, random_state=seed, bootstrap = True)\n",
    "    bagging_scores = cross_val_score(bagging_clf, X, Y, cv=10)    \n",
    "    print('Media clf ',pima_scores.mean(), '\\nMedia Bagging',bagging_scores.mean(),'\\nDesvio ',pima_scores.std(), '\\nDesvio bagging ',bagging_scores.std())\n"
   ]
  },
  {
   "cell_type": "code",
   "execution_count": 20,
   "metadata": {},
   "outputs": [
    {
     "name": "stdout",
     "output_type": "stream",
     "text": [
      "Media clf  0.7669685577580314 \n",
      "Media Bagging 0.7708817498291183 \n",
      "Desvio  0.03338716735131549 \n",
      "Desvio bagging  0.03570846381364376\n",
      "Media clf  0.6536568694463432 \n",
      "Media Bagging 0.6562200956937799 \n",
      "Desvio  0.007970053778345003 \n",
      "Desvio bagging  0.04488597473110575\n",
      "Media clf  0.7187457279562542 \n",
      "Media Bagging 0.7565447710184552 \n",
      "Desvio  0.07277566442414571 \n",
      "Desvio bagging  0.05622202002827217\n"
     ]
    }
   ],
   "source": [
    "# Create base classifiers\n",
    "svc = SVC(kernel='linear')\n",
    "neural_network = MLPClassifier(hidden_layer_sizes=(100,), random_state=10, early_stopping=True, n_iter_no_change=5)\n",
    "DecisionTree = tree.DecisionTreeClassifier(random_state=42,max_depth=10)\n",
    "\n",
    "#training ensembles of classifiers\n",
    "clf_array = [svc,neural_network,DecisionTree]\n",
    "for clf in clf_array:\n",
    "    pima_scores = cross_val_score(clf, X, Y, cv=10)\n",
    "    bagging_clf = BaggingClassifier(clf,max_samples=0.3, random_state=seed, bootstrap = True, n_estimators = 20, warm_start = True)\n",
    "    bagging_scores = cross_val_score(bagging_clf, X, Y, cv=10)    \n",
    "    print('Media clf ',pima_scores.mean(), '\\nMedia Bagging',bagging_scores.mean(),'\\nDesvio ',pima_scores.std(), '\\nDesvio bagging ',bagging_scores.std())"
   ]
  },
  {
   "cell_type": "code",
   "execution_count": 22,
   "metadata": {},
   "outputs": [
    {
     "name": "stdout",
     "output_type": "stream",
     "text": [
      "Media clf  0.7669685577580314 \n",
      "Media Bagging 0.7747778537252221 \n",
      "Desvio  0.03338716735131549 \n",
      "Desvio bagging  0.032220613765320885\n",
      "Media clf  0.6536568694463432 \n",
      "Media Bagging 0.6536568694463432 \n",
      "Desvio  0.007970053778345003 \n",
      "Desvio bagging  0.007970053778345003\n",
      "Media clf  0.7187457279562542 \n",
      "Media Bagging 0.7682843472317157 \n",
      "Desvio  0.07277566442414571 \n",
      "Desvio bagging  0.058801599472932536\n"
     ]
    }
   ],
   "source": [
    "# Create base classifiers\n",
    "svc = SVC(kernel='linear')\n",
    "neural_network = MLPClassifier(hidden_layer_sizes=(100,), random_state=10, early_stopping=True, n_iter_no_change=5)\n",
    "DecisionTree = tree.DecisionTreeClassifier(random_state=42,max_depth=10)\n",
    "\n",
    "#training ensembles of classifiers\n",
    "clf_array = [svc,neural_network,DecisionTree]\n",
    "for clf in clf_array:\n",
    "    pima_scores = cross_val_score(clf, X, Y, cv=10)\n",
    "    bagging_clf = BaggingClassifier(clf,max_samples=0.3, random_state=seed, bootstrap = True, n_estimators = 50, warm_start = True)\n",
    "    bagging_scores = cross_val_score(bagging_clf, X, Y, cv=10)    \n",
    "    print('Media clf ',pima_scores.mean(), '\\nMedia Bagging',bagging_scores.mean(),'\\nDesvio ',pima_scores.std(), '\\nDesvio bagging ',bagging_scores.std())"
   ]
  },
  {
   "cell_type": "code",
   "execution_count": 24,
   "metadata": {},
   "outputs": [
    {
     "name": "stdout",
     "output_type": "stream",
     "text": [
      "Media clf  0.7669685577580314 \n",
      "Media Bagging 0.7721804511278195 \n",
      "Desvio  0.03338716735131549 \n",
      "Desvio bagging  0.030673707245564594\n",
      "Media clf  0.6536568694463432 \n",
      "Media Bagging 0.6510594668489406 \n",
      "Desvio  0.007970053778345003 \n",
      "Desvio bagging  0.003417634996582386\n",
      "Media clf  0.7187457279562542 \n",
      "Media Bagging 0.774794941900205 \n",
      "Desvio  0.07277566442414571 \n",
      "Desvio bagging  0.056212483409292656\n"
     ]
    }
   ],
   "source": [
    "# Create base classifiers\n",
    "svc = SVC(kernel='linear')\n",
    "neural_network = MLPClassifier(hidden_layer_sizes=(100,), random_state=10, early_stopping=True, n_iter_no_change=5)\n",
    "DecisionTree = tree.DecisionTreeClassifier(random_state=42,max_depth=10)\n",
    "\n",
    "#training ensembles of classifiers\n",
    "clf_array = [svc,neural_network,DecisionTree]\n",
    "for clf in clf_array:\n",
    "    pima_scores = cross_val_score(clf, X, Y, cv=10)\n",
    "    bagging_clf = BaggingClassifier(clf,max_samples=0.3, random_state=seed, bootstrap = True, n_estimators = 100, warm_start = True, n_jobs = -1)\n",
    "    bagging_scores = cross_val_score(bagging_clf, X, Y, cv=10)    \n",
    "    print('Media clf ',pima_scores.mean(), '\\nMedia Bagging',bagging_scores.mean(),'\\nDesvio ',pima_scores.std(), '\\nDesvio bagging ',bagging_scores.std())"
   ]
  },
  {
   "cell_type": "code",
   "execution_count": null,
   "metadata": {},
   "outputs": [],
   "source": []
  }
 ],
 "metadata": {
  "kernelspec": {
   "display_name": "Python 3",
   "language": "python",
   "name": "python3"
  },
  "language_info": {
   "codemirror_mode": {
    "name": "ipython",
    "version": 3
   },
   "file_extension": ".py",
   "mimetype": "text/x-python",
   "name": "python",
   "nbconvert_exporter": "python",
   "pygments_lexer": "ipython3",
   "version": "3.11.4"
  },
  "orig_nbformat": 4
 },
 "nbformat": 4,
 "nbformat_minor": 2
}
